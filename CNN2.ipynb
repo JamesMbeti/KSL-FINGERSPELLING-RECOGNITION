{
  "cells": [
    {
      "cell_type": "markdown",
      "metadata": {
        "id": "MDHncpnNkY67"
      },
      "source": [
        "## **KSL FINGERSPELLING RECOGNITION**"
      ]
    },
    {
      "cell_type": "markdown",
      "metadata": {
        "id": "7MvWx6QMkY69"
      },
      "source": [
        "### INTRODUCTION"
      ]
    },
    {
      "cell_type": "markdown",
      "metadata": {
        "id": "9W5xXEWskY69"
      },
      "source": [
        "<img src=\"https://github.com/JamesMbeti/KSL-FINGERSPELLING-RECOGNITION/blob/main/ksl.png?raw=1\" />"
      ]
    },
    {
      "cell_type": "markdown",
      "metadata": {
        "id": "cjo-L1ZmkY6-"
      },
      "source": [
        "### Overview\n",
        "- Fingerspelling is a technique that makes use of hand formations to represent words and letters. Using fingerspelling, one can communicate information such as phone numbers, names, and even addresses. However, hearing impaired individuals find it difficult to merge the current technological advancements, such as, smartphones with fingerspelling because they happen to do it a lot faster than their devices. Therefore, there is need to bridge the gap between fingerspelling and typing on smartphones.\n",
        "- Fingerspelling has grown to become one of the most crucial manual communication systems in the world. For deaf and individuals with hearing impairment issues, fingerspelling is one of the ways that they can communicate with those around them. However, few people are able to discern figerspelling and this leads to communication breakdowns. The use of machine learning technology can help to merge fingerspelling with exact letters and symbols to help enhance communication."
      ]
    },
    {
      "cell_type": "markdown",
      "metadata": {
        "id": "cN_9QTn3kY6-"
      },
      "source": [
        "### Problem Statement\n",
        "- The deaf and hearing impaired community faces significant communication barriers with the rest of the society. This is because sign language is not widely understood by everyone else around them, and this can lead to difficulties in communication or communication breakdowns. To address this issue, this project aims to develop a Convolutional Neural Network (CNN) model specifically designed for fingerspelling recognition, allowing for accurate identification of individual letters and complete words in different sign languages. By improving the recognition of fingerspelling gestures, the model seeks to enhance communication accessibility for individuals who are deaf or hard of hearing, promoting inclusivity and fostering effective communication with the broader society."
      ]
    },
    {
      "cell_type": "markdown",
      "metadata": {
        "id": "gk4Zbt9TkY6-"
      },
      "source": [
        "### Objectives\n",
        "- Our objective is to create an innovative machine learning model that acts as a vital bridge, connecting the deaf and mute community with the wider society.\n",
        "\n",
        "This model will have the capability to translate various sign languages, including American Sign Language (ASL) and Kenyan Sign Language (KSL), into their corresponding individual letters, enabling the broader community to learn and understand sign language for improved communication with their deaf loved ones. Additionally, this development will empower the deaf and mute community to communicate effectively amongst themselves, fostering inclusivity and enhancing overall interactions. Through this project, we aspire to facilitate seamless communication, foster understanding, and promote inclusiveness between these communities."
      ]
    },
    {
      "cell_type": "markdown",
      "metadata": {
        "id": "lA1EdhJPkY6_"
      },
      "source": [
        "#### Specific Objectives\n",
        "1. Develop a Convolutional Neural Network (CNN) model specifically designed for fingerspelling recognition in different sign languages.\n",
        "2. Train the model using a large dataset of fingerspelling gestures in various sign languages, ensuring accuracy and reliability in recognizing individual letters and complete words.\n",
        "3. Conduct extensive testing and evaluation to assess the model's performance and accuracy in recognizing fingerspelling gestures across different sign languages.\n",
        "4. Deploy the model."
      ]
    },
    {
      "cell_type": "markdown",
      "metadata": {
        "id": "uCER2Yc-kY6_"
      },
      "source": [
        "### Data Understanding\n",
        "- The dataset is publicly available on Kaggle which we then added 379 images taken by the group members doing the fingerspelling.\n",
        "- The signs provided are based on the Kenyan Sign Language letter database which is made up of 24 classes of letters with the exclusion of `J` and `Z`. The two letters have been excluded because they require the use of motion.\n",
        "- Further, the dataset is divided into train and test sets each with 27455 and 7172 cases, respectively. The total number of columns for both is 784."
      ]
    },
    {
      "cell_type": "markdown",
      "metadata": {
        "id": "EKMgDu3GkY6_"
      },
      "source": [
        "### DATA PREPROCESSING"
      ]
    },
    {
      "cell_type": "code",
      "execution_count": null,
      "metadata": {
        "id": "86W0AdttkY7A"
      },
      "outputs": [],
      "source": [
        "#importing necessary libraries\n",
        "import pandas as pd\n",
        "import numpy as np\n",
        "import seaborn as sns\n",
        "import matplotlib.pyplot as plt\n",
        "from PIL import Image\n",
        "from keras.preprocessing.image import ImageDataGenerator\n",
        "from tensorflow.keras.utils import array_to_img, img_to_array\n",
        "import cv2\n",
        "\n",
        "np.random.seed(180)\n",
        "plt.style.use(\"ggplot\")"
      ]
    },
    {
      "cell_type": "markdown",
      "metadata": {
        "id": "e-SXc--kkY7C"
      },
      "source": [
        "#### Kaggle Dataset"
      ]
    },
    {
      "cell_type": "code",
      "execution_count": null,
      "metadata": {
        "id": "sQC5cizSkY7D",
        "outputId": "d6c3c411-d93b-42f1-ae84-5cdde3b54a7f"
      },
      "outputs": [
        {
          "data": {
            "text/html": [
              "<div>\n",
              "<style scoped>\n",
              "    .dataframe tbody tr th:only-of-type {\n",
              "        vertical-align: middle;\n",
              "    }\n",
              "\n",
              "    .dataframe tbody tr th {\n",
              "        vertical-align: top;\n",
              "    }\n",
              "\n",
              "    .dataframe thead th {\n",
              "        text-align: right;\n",
              "    }\n",
              "</style>\n",
              "<table border=\"1\" class=\"dataframe\">\n",
              "  <thead>\n",
              "    <tr style=\"text-align: right;\">\n",
              "      <th></th>\n",
              "      <th>label</th>\n",
              "      <th>pixel1</th>\n",
              "      <th>pixel2</th>\n",
              "      <th>pixel3</th>\n",
              "      <th>pixel4</th>\n",
              "      <th>pixel5</th>\n",
              "      <th>pixel6</th>\n",
              "      <th>pixel7</th>\n",
              "      <th>pixel8</th>\n",
              "      <th>pixel9</th>\n",
              "      <th>...</th>\n",
              "      <th>pixel775</th>\n",
              "      <th>pixel776</th>\n",
              "      <th>pixel777</th>\n",
              "      <th>pixel778</th>\n",
              "      <th>pixel779</th>\n",
              "      <th>pixel780</th>\n",
              "      <th>pixel781</th>\n",
              "      <th>pixel782</th>\n",
              "      <th>pixel783</th>\n",
              "      <th>pixel784</th>\n",
              "    </tr>\n",
              "  </thead>\n",
              "  <tbody>\n",
              "    <tr>\n",
              "      <th>0</th>\n",
              "      <td>3</td>\n",
              "      <td>107</td>\n",
              "      <td>118</td>\n",
              "      <td>127</td>\n",
              "      <td>134</td>\n",
              "      <td>139</td>\n",
              "      <td>143</td>\n",
              "      <td>146</td>\n",
              "      <td>150</td>\n",
              "      <td>153</td>\n",
              "      <td>...</td>\n",
              "      <td>207</td>\n",
              "      <td>207</td>\n",
              "      <td>207</td>\n",
              "      <td>207</td>\n",
              "      <td>206</td>\n",
              "      <td>206</td>\n",
              "      <td>206</td>\n",
              "      <td>204</td>\n",
              "      <td>203</td>\n",
              "      <td>202</td>\n",
              "    </tr>\n",
              "    <tr>\n",
              "      <th>1</th>\n",
              "      <td>6</td>\n",
              "      <td>155</td>\n",
              "      <td>157</td>\n",
              "      <td>156</td>\n",
              "      <td>156</td>\n",
              "      <td>156</td>\n",
              "      <td>157</td>\n",
              "      <td>156</td>\n",
              "      <td>158</td>\n",
              "      <td>158</td>\n",
              "      <td>...</td>\n",
              "      <td>69</td>\n",
              "      <td>149</td>\n",
              "      <td>128</td>\n",
              "      <td>87</td>\n",
              "      <td>94</td>\n",
              "      <td>163</td>\n",
              "      <td>175</td>\n",
              "      <td>103</td>\n",
              "      <td>135</td>\n",
              "      <td>149</td>\n",
              "    </tr>\n",
              "    <tr>\n",
              "      <th>2</th>\n",
              "      <td>2</td>\n",
              "      <td>187</td>\n",
              "      <td>188</td>\n",
              "      <td>188</td>\n",
              "      <td>187</td>\n",
              "      <td>187</td>\n",
              "      <td>186</td>\n",
              "      <td>187</td>\n",
              "      <td>188</td>\n",
              "      <td>187</td>\n",
              "      <td>...</td>\n",
              "      <td>202</td>\n",
              "      <td>201</td>\n",
              "      <td>200</td>\n",
              "      <td>199</td>\n",
              "      <td>198</td>\n",
              "      <td>199</td>\n",
              "      <td>198</td>\n",
              "      <td>195</td>\n",
              "      <td>194</td>\n",
              "      <td>195</td>\n",
              "    </tr>\n",
              "    <tr>\n",
              "      <th>3</th>\n",
              "      <td>2</td>\n",
              "      <td>211</td>\n",
              "      <td>211</td>\n",
              "      <td>212</td>\n",
              "      <td>212</td>\n",
              "      <td>211</td>\n",
              "      <td>210</td>\n",
              "      <td>211</td>\n",
              "      <td>210</td>\n",
              "      <td>210</td>\n",
              "      <td>...</td>\n",
              "      <td>235</td>\n",
              "      <td>234</td>\n",
              "      <td>233</td>\n",
              "      <td>231</td>\n",
              "      <td>230</td>\n",
              "      <td>226</td>\n",
              "      <td>225</td>\n",
              "      <td>222</td>\n",
              "      <td>229</td>\n",
              "      <td>163</td>\n",
              "    </tr>\n",
              "    <tr>\n",
              "      <th>4</th>\n",
              "      <td>13</td>\n",
              "      <td>164</td>\n",
              "      <td>167</td>\n",
              "      <td>170</td>\n",
              "      <td>172</td>\n",
              "      <td>176</td>\n",
              "      <td>179</td>\n",
              "      <td>180</td>\n",
              "      <td>184</td>\n",
              "      <td>185</td>\n",
              "      <td>...</td>\n",
              "      <td>92</td>\n",
              "      <td>105</td>\n",
              "      <td>105</td>\n",
              "      <td>108</td>\n",
              "      <td>133</td>\n",
              "      <td>163</td>\n",
              "      <td>157</td>\n",
              "      <td>163</td>\n",
              "      <td>164</td>\n",
              "      <td>179</td>\n",
              "    </tr>\n",
              "  </tbody>\n",
              "</table>\n",
              "<p>5 rows × 785 columns</p>\n",
              "</div>"
            ],
            "text/plain": [
              "   label  pixel1  pixel2  pixel3  pixel4  pixel5  pixel6  pixel7  pixel8  \\\n",
              "0      3     107     118     127     134     139     143     146     150   \n",
              "1      6     155     157     156     156     156     157     156     158   \n",
              "2      2     187     188     188     187     187     186     187     188   \n",
              "3      2     211     211     212     212     211     210     211     210   \n",
              "4     13     164     167     170     172     176     179     180     184   \n",
              "\n",
              "   pixel9  ...  pixel775  pixel776  pixel777  pixel778  pixel779  pixel780  \\\n",
              "0     153  ...       207       207       207       207       206       206   \n",
              "1     158  ...        69       149       128        87        94       163   \n",
              "2     187  ...       202       201       200       199       198       199   \n",
              "3     210  ...       235       234       233       231       230       226   \n",
              "4     185  ...        92       105       105       108       133       163   \n",
              "\n",
              "   pixel781  pixel782  pixel783  pixel784  \n",
              "0       206       204       203       202  \n",
              "1       175       103       135       149  \n",
              "2       198       195       194       195  \n",
              "3       225       222       229       163  \n",
              "4       157       163       164       179  \n",
              "\n",
              "[5 rows x 785 columns]"
            ]
          },
          "execution_count": 33,
          "metadata": {},
          "output_type": "execute_result"
        }
      ],
      "source": [
        "# Reading train and test dataset\n",
        "train = pd.read_csv(\"sign_mnist_train.csv\")\n",
        "test = pd.read_csv(\"sign_mnist_test.csv\")\n",
        "\n",
        "# printing first five rows of the train data\n",
        "train.head()"
      ]
    },
    {
      "cell_type": "code",
      "execution_count": null,
      "metadata": {
        "id": "aDPjlnubkY7H"
      },
      "outputs": [],
      "source": [
        "# a class to decribe the dataset\n",
        "class Describer:\n",
        "\n",
        "    #initialize an object\n",
        "    def __init__(self, df):\n",
        "        self.df = df\n",
        "\n",
        "    #checking the shape of the data\n",
        "    def shape(self, name):\n",
        "        return print(f\"The {name} dataset has {self.df.shape[0]} entries and {self.df.shape[1]} columns\")"
      ]
    },
    {
      "cell_type": "code",
      "execution_count": null,
      "metadata": {
        "id": "fRlXdI3QkY7H",
        "outputId": "5598a52c-b67b-43e6-fcbe-e3b4a6749a46"
      },
      "outputs": [
        {
          "name": "stdout",
          "output_type": "stream",
          "text": [
            "The train dataset has 27455 entries and 785 columns\n"
          ]
        }
      ],
      "source": [
        "#Viewing the shape of the train dataset\n",
        "data = Describer(train)\n",
        "data.shape(\"train\")"
      ]
    },
    {
      "cell_type": "code",
      "execution_count": null,
      "metadata": {
        "id": "hN4OEI4ZkY7I",
        "outputId": "cf0e9077-59b2-476f-ac03-9ca04cca7f38"
      },
      "outputs": [
        {
          "name": "stdout",
          "output_type": "stream",
          "text": [
            "The test dataset has 7172 entries and 785 columns\n"
          ]
        }
      ],
      "source": [
        "#Viewing the shape of the test dataset\n",
        "data = Describer(test)\n",
        "data.shape(\"test\")"
      ]
    },
    {
      "cell_type": "code",
      "execution_count": null,
      "metadata": {
        "id": "9ueyIqBIkY7I",
        "outputId": "878ca62a-d883-4df3-e99b-d9586f595483"
      },
      "outputs": [
        {
          "data": {
            "text/plain": [
              "Index(['label', 'pixel1', 'pixel2', 'pixel3', 'pixel4', 'pixel5', 'pixel6',\n",
              "       'pixel7', 'pixel8', 'pixel9',\n",
              "       ...\n",
              "       'pixel775', 'pixel776', 'pixel777', 'pixel778', 'pixel779', 'pixel780',\n",
              "       'pixel781', 'pixel782', 'pixel783', 'pixel784'],\n",
              "      dtype='object', length=785)"
            ]
          },
          "execution_count": 37,
          "metadata": {},
          "output_type": "execute_result"
        }
      ],
      "source": [
        "# Displaying the column names\n",
        "train.columns"
      ]
    },
    {
      "cell_type": "markdown",
      "metadata": {
        "id": "6baoUMUWkY7I"
      },
      "source": [
        "* The pixel columns represent the pixel intensity of an image and the label column represents what letter the image stands for from 0-23."
      ]
    },
    {
      "cell_type": "code",
      "execution_count": null,
      "metadata": {
        "id": "dGEXYvyOkY7J",
        "outputId": "93f1323f-d5b4-4a76-85bc-a1716b44e68b"
      },
      "outputs": [
        {
          "name": "stdout",
          "output_type": "stream",
          "text": [
            "Found 379 images belonging to 24 classes.\n"
          ]
        }
      ],
      "source": [
        "# reading the collected raw images\n",
        "train_generator = ImageDataGenerator().flow_from_directory(\"train\", target_size=(28,28),\n",
        "                                                           batch_size=400)"
      ]
    },
    {
      "cell_type": "code",
      "execution_count": null,
      "metadata": {
        "id": "Y8jPQerdkY7J"
      },
      "outputs": [],
      "source": [
        "#Getting all images and labels\n",
        "train_images, train_labels = next(train_generator)"
      ]
    },
    {
      "cell_type": "code",
      "execution_count": null,
      "metadata": {
        "id": "v8SRQ3l2kY7J"
      },
      "outputs": [],
      "source": [
        "#Flattening images into lists of pixels\n",
        "images_list = []\n",
        "for img_array in train_images:\n",
        "    gray = cv2.cvtColor(img_array, cv2.COLOR_BGR2GRAY)\n",
        "    gray = np.expand_dims(gray, 2)\n",
        "    images_list.append(gray.reshape(-1, 784).flatten().tolist())"
      ]
    },
    {
      "cell_type": "code",
      "execution_count": null,
      "metadata": {
        "id": "ZOJyzWA7kY7K",
        "outputId": "bb9ea0be-129d-4151-c435-667c92dc3a7e"
      },
      "outputs": [
        {
          "data": {
            "text/html": [
              "<div>\n",
              "<style scoped>\n",
              "    .dataframe tbody tr th:only-of-type {\n",
              "        vertical-align: middle;\n",
              "    }\n",
              "\n",
              "    .dataframe tbody tr th {\n",
              "        vertical-align: top;\n",
              "    }\n",
              "\n",
              "    .dataframe thead th {\n",
              "        text-align: right;\n",
              "    }\n",
              "</style>\n",
              "<table border=\"1\" class=\"dataframe\">\n",
              "  <thead>\n",
              "    <tr style=\"text-align: right;\">\n",
              "      <th></th>\n",
              "      <th>0</th>\n",
              "      <th>1</th>\n",
              "      <th>2</th>\n",
              "      <th>3</th>\n",
              "      <th>4</th>\n",
              "      <th>5</th>\n",
              "      <th>6</th>\n",
              "      <th>7</th>\n",
              "      <th>8</th>\n",
              "      <th>9</th>\n",
              "      <th>...</th>\n",
              "      <th>774</th>\n",
              "      <th>775</th>\n",
              "      <th>776</th>\n",
              "      <th>777</th>\n",
              "      <th>778</th>\n",
              "      <th>779</th>\n",
              "      <th>780</th>\n",
              "      <th>781</th>\n",
              "      <th>782</th>\n",
              "      <th>783</th>\n",
              "    </tr>\n",
              "  </thead>\n",
              "  <tbody>\n",
              "    <tr>\n",
              "      <th>0</th>\n",
              "      <td>159.167007</td>\n",
              "      <td>160.167007</td>\n",
              "      <td>160.764999</td>\n",
              "      <td>160.764999</td>\n",
              "      <td>161.776001</td>\n",
              "      <td>161.776001</td>\n",
              "      <td>162.559006</td>\n",
              "      <td>162.559006</td>\n",
              "      <td>153.755005</td>\n",
              "      <td>147.755005</td>\n",
              "      <td>...</td>\n",
              "      <td>113.000008</td>\n",
              "      <td>115.000008</td>\n",
              "      <td>127.515999</td>\n",
              "      <td>116.516006</td>\n",
              "      <td>128.559006</td>\n",
              "      <td>130.559006</td>\n",
              "      <td>132.374008</td>\n",
              "      <td>132.374008</td>\n",
              "      <td>133.003998</td>\n",
              "      <td>133.003998</td>\n",
              "    </tr>\n",
              "    <tr>\n",
              "      <th>1</th>\n",
              "      <td>67.872002</td>\n",
              "      <td>68.231003</td>\n",
              "      <td>69.014000</td>\n",
              "      <td>69.857002</td>\n",
              "      <td>70.639999</td>\n",
              "      <td>71.493996</td>\n",
              "      <td>72.565002</td>\n",
              "      <td>72.636002</td>\n",
              "      <td>79.234001</td>\n",
              "      <td>77.636002</td>\n",
              "      <td>...</td>\n",
              "      <td>86.879997</td>\n",
              "      <td>94.125000</td>\n",
              "      <td>98.082001</td>\n",
              "      <td>93.327003</td>\n",
              "      <td>96.985008</td>\n",
              "      <td>108.458008</td>\n",
              "      <td>95.942001</td>\n",
              "      <td>106.942001</td>\n",
              "      <td>122.067001</td>\n",
              "      <td>133.067001</td>\n",
              "    </tr>\n",
              "    <tr>\n",
              "      <th>2</th>\n",
              "      <td>160.106003</td>\n",
              "      <td>147.578995</td>\n",
              "      <td>137.052002</td>\n",
              "      <td>137.296997</td>\n",
              "      <td>148.367996</td>\n",
              "      <td>158.314011</td>\n",
              "      <td>157.673004</td>\n",
              "      <td>152.559006</td>\n",
              "      <td>144.516006</td>\n",
              "      <td>146.516006</td>\n",
              "      <td>...</td>\n",
              "      <td>144.565002</td>\n",
              "      <td>146.565002</td>\n",
              "      <td>146.276993</td>\n",
              "      <td>144.277008</td>\n",
              "      <td>143.875000</td>\n",
              "      <td>141.875000</td>\n",
              "      <td>140.472992</td>\n",
              "      <td>142.472992</td>\n",
              "      <td>144.843002</td>\n",
              "      <td>146.843002</td>\n",
              "    </tr>\n",
              "    <tr>\n",
              "      <th>3</th>\n",
              "      <td>163.214996</td>\n",
              "      <td>163.214996</td>\n",
              "      <td>162.214996</td>\n",
              "      <td>162.214996</td>\n",
              "      <td>164.688004</td>\n",
              "      <td>166.687988</td>\n",
              "      <td>169.688004</td>\n",
              "      <td>170.688004</td>\n",
              "      <td>166.459991</td>\n",
              "      <td>175.460007</td>\n",
              "      <td>...</td>\n",
              "      <td>160.248993</td>\n",
              "      <td>157.249008</td>\n",
              "      <td>152.764999</td>\n",
              "      <td>148.764999</td>\n",
              "      <td>145.807999</td>\n",
              "      <td>145.807999</td>\n",
              "      <td>150.623001</td>\n",
              "      <td>151.623001</td>\n",
              "      <td>152.552002</td>\n",
              "      <td>153.552002</td>\n",
              "    </tr>\n",
              "    <tr>\n",
              "      <th>4</th>\n",
              "      <td>193.039001</td>\n",
              "      <td>194.039001</td>\n",
              "      <td>196.512009</td>\n",
              "      <td>198.511993</td>\n",
              "      <td>201.996002</td>\n",
              "      <td>203.996002</td>\n",
              "      <td>205.354996</td>\n",
              "      <td>206.828003</td>\n",
              "      <td>207.828003</td>\n",
              "      <td>214.187012</td>\n",
              "      <td>...</td>\n",
              "      <td>45.368000</td>\n",
              "      <td>38.215000</td>\n",
              "      <td>44.827999</td>\n",
              "      <td>50.077000</td>\n",
              "      <td>159.679001</td>\n",
              "      <td>190.526001</td>\n",
              "      <td>182.612000</td>\n",
              "      <td>182.942993</td>\n",
              "      <td>183.584000</td>\n",
              "      <td>184.985992</td>\n",
              "    </tr>\n",
              "  </tbody>\n",
              "</table>\n",
              "<p>5 rows × 784 columns</p>\n",
              "</div>"
            ],
            "text/plain": [
              "          0           1           2           3           4           5    \\\n",
              "0  159.167007  160.167007  160.764999  160.764999  161.776001  161.776001   \n",
              "1   67.872002   68.231003   69.014000   69.857002   70.639999   71.493996   \n",
              "2  160.106003  147.578995  137.052002  137.296997  148.367996  158.314011   \n",
              "3  163.214996  163.214996  162.214996  162.214996  164.688004  166.687988   \n",
              "4  193.039001  194.039001  196.512009  198.511993  201.996002  203.996002   \n",
              "\n",
              "          6           7           8           9    ...         774  \\\n",
              "0  162.559006  162.559006  153.755005  147.755005  ...  113.000008   \n",
              "1   72.565002   72.636002   79.234001   77.636002  ...   86.879997   \n",
              "2  157.673004  152.559006  144.516006  146.516006  ...  144.565002   \n",
              "3  169.688004  170.688004  166.459991  175.460007  ...  160.248993   \n",
              "4  205.354996  206.828003  207.828003  214.187012  ...   45.368000   \n",
              "\n",
              "          775         776         777         778         779         780  \\\n",
              "0  115.000008  127.515999  116.516006  128.559006  130.559006  132.374008   \n",
              "1   94.125000   98.082001   93.327003   96.985008  108.458008   95.942001   \n",
              "2  146.565002  146.276993  144.277008  143.875000  141.875000  140.472992   \n",
              "3  157.249008  152.764999  148.764999  145.807999  145.807999  150.623001   \n",
              "4   38.215000   44.827999   50.077000  159.679001  190.526001  182.612000   \n",
              "\n",
              "          781         782         783  \n",
              "0  132.374008  133.003998  133.003998  \n",
              "1  106.942001  122.067001  133.067001  \n",
              "2  142.472992  144.843002  146.843002  \n",
              "3  151.623001  152.552002  153.552002  \n",
              "4  182.942993  183.584000  184.985992  \n",
              "\n",
              "[5 rows x 784 columns]"
            ]
          },
          "execution_count": 41,
          "metadata": {},
          "output_type": "execute_result"
        }
      ],
      "source": [
        "#converting the images to a DataFrame\n",
        "raw_img_df = pd.DataFrame(images_list)\n",
        "raw_img_df.head()"
      ]
    },
    {
      "cell_type": "code",
      "execution_count": null,
      "metadata": {
        "id": "5yYJ3R9jkY7K"
      },
      "outputs": [],
      "source": [
        "# Generating the labels\n",
        "train_labels = pd.Series([np.argmax(label) for label in train_labels])"
      ]
    },
    {
      "cell_type": "code",
      "execution_count": null,
      "metadata": {
        "id": "_Zzzje8ckY7M",
        "outputId": "e695dda7-b009-473a-d1ca-0b42e9d1496a"
      },
      "outputs": [
        {
          "data": {
            "text/html": [
              "<div>\n",
              "<style scoped>\n",
              "    .dataframe tbody tr th:only-of-type {\n",
              "        vertical-align: middle;\n",
              "    }\n",
              "\n",
              "    .dataframe tbody tr th {\n",
              "        vertical-align: top;\n",
              "    }\n",
              "\n",
              "    .dataframe thead th {\n",
              "        text-align: right;\n",
              "    }\n",
              "</style>\n",
              "<table border=\"1\" class=\"dataframe\">\n",
              "  <thead>\n",
              "    <tr style=\"text-align: right;\">\n",
              "      <th></th>\n",
              "      <th>label</th>\n",
              "      <th>pixel1</th>\n",
              "      <th>pixel2</th>\n",
              "      <th>pixel3</th>\n",
              "      <th>pixel4</th>\n",
              "      <th>pixel5</th>\n",
              "      <th>pixel6</th>\n",
              "      <th>pixel7</th>\n",
              "      <th>pixel8</th>\n",
              "      <th>pixel9</th>\n",
              "      <th>...</th>\n",
              "      <th>pixel775</th>\n",
              "      <th>pixel776</th>\n",
              "      <th>pixel777</th>\n",
              "      <th>pixel778</th>\n",
              "      <th>pixel779</th>\n",
              "      <th>pixel780</th>\n",
              "      <th>pixel781</th>\n",
              "      <th>pixel782</th>\n",
              "      <th>pixel783</th>\n",
              "      <th>pixel784</th>\n",
              "    </tr>\n",
              "  </thead>\n",
              "  <tbody>\n",
              "    <tr>\n",
              "      <th>0</th>\n",
              "      <td>17</td>\n",
              "      <td>159.167007</td>\n",
              "      <td>160.167007</td>\n",
              "      <td>160.764999</td>\n",
              "      <td>160.764999</td>\n",
              "      <td>161.776001</td>\n",
              "      <td>161.776001</td>\n",
              "      <td>162.559006</td>\n",
              "      <td>162.559006</td>\n",
              "      <td>153.755005</td>\n",
              "      <td>...</td>\n",
              "      <td>113.000008</td>\n",
              "      <td>115.000008</td>\n",
              "      <td>127.515999</td>\n",
              "      <td>116.516006</td>\n",
              "      <td>128.559006</td>\n",
              "      <td>130.559006</td>\n",
              "      <td>132.374008</td>\n",
              "      <td>132.374008</td>\n",
              "      <td>133.003998</td>\n",
              "      <td>133.003998</td>\n",
              "    </tr>\n",
              "    <tr>\n",
              "      <th>1</th>\n",
              "      <td>1</td>\n",
              "      <td>67.872002</td>\n",
              "      <td>68.231003</td>\n",
              "      <td>69.014000</td>\n",
              "      <td>69.857002</td>\n",
              "      <td>70.639999</td>\n",
              "      <td>71.493996</td>\n",
              "      <td>72.565002</td>\n",
              "      <td>72.636002</td>\n",
              "      <td>79.234001</td>\n",
              "      <td>...</td>\n",
              "      <td>86.879997</td>\n",
              "      <td>94.125000</td>\n",
              "      <td>98.082001</td>\n",
              "      <td>93.327003</td>\n",
              "      <td>96.985008</td>\n",
              "      <td>108.458008</td>\n",
              "      <td>95.942001</td>\n",
              "      <td>106.942001</td>\n",
              "      <td>122.067001</td>\n",
              "      <td>133.067001</td>\n",
              "    </tr>\n",
              "    <tr>\n",
              "      <th>2</th>\n",
              "      <td>10</td>\n",
              "      <td>160.106003</td>\n",
              "      <td>147.578995</td>\n",
              "      <td>137.052002</td>\n",
              "      <td>137.296997</td>\n",
              "      <td>148.367996</td>\n",
              "      <td>158.314011</td>\n",
              "      <td>157.673004</td>\n",
              "      <td>152.559006</td>\n",
              "      <td>144.516006</td>\n",
              "      <td>...</td>\n",
              "      <td>144.565002</td>\n",
              "      <td>146.565002</td>\n",
              "      <td>146.276993</td>\n",
              "      <td>144.277008</td>\n",
              "      <td>143.875000</td>\n",
              "      <td>141.875000</td>\n",
              "      <td>140.472992</td>\n",
              "      <td>142.472992</td>\n",
              "      <td>144.843002</td>\n",
              "      <td>146.843002</td>\n",
              "    </tr>\n",
              "    <tr>\n",
              "      <th>3</th>\n",
              "      <td>2</td>\n",
              "      <td>163.214996</td>\n",
              "      <td>163.214996</td>\n",
              "      <td>162.214996</td>\n",
              "      <td>162.214996</td>\n",
              "      <td>164.688004</td>\n",
              "      <td>166.687988</td>\n",
              "      <td>169.688004</td>\n",
              "      <td>170.688004</td>\n",
              "      <td>166.459991</td>\n",
              "      <td>...</td>\n",
              "      <td>160.248993</td>\n",
              "      <td>157.249008</td>\n",
              "      <td>152.764999</td>\n",
              "      <td>148.764999</td>\n",
              "      <td>145.807999</td>\n",
              "      <td>145.807999</td>\n",
              "      <td>150.623001</td>\n",
              "      <td>151.623001</td>\n",
              "      <td>152.552002</td>\n",
              "      <td>153.552002</td>\n",
              "    </tr>\n",
              "    <tr>\n",
              "      <th>4</th>\n",
              "      <td>21</td>\n",
              "      <td>193.039001</td>\n",
              "      <td>194.039001</td>\n",
              "      <td>196.512009</td>\n",
              "      <td>198.511993</td>\n",
              "      <td>201.996002</td>\n",
              "      <td>203.996002</td>\n",
              "      <td>205.354996</td>\n",
              "      <td>206.828003</td>\n",
              "      <td>207.828003</td>\n",
              "      <td>...</td>\n",
              "      <td>45.368000</td>\n",
              "      <td>38.215000</td>\n",
              "      <td>44.827999</td>\n",
              "      <td>50.077000</td>\n",
              "      <td>159.679001</td>\n",
              "      <td>190.526001</td>\n",
              "      <td>182.612000</td>\n",
              "      <td>182.942993</td>\n",
              "      <td>183.584000</td>\n",
              "      <td>184.985992</td>\n",
              "    </tr>\n",
              "  </tbody>\n",
              "</table>\n",
              "<p>5 rows × 785 columns</p>\n",
              "</div>"
            ],
            "text/plain": [
              "   label      pixel1      pixel2      pixel3      pixel4      pixel5  \\\n",
              "0     17  159.167007  160.167007  160.764999  160.764999  161.776001   \n",
              "1      1   67.872002   68.231003   69.014000   69.857002   70.639999   \n",
              "2     10  160.106003  147.578995  137.052002  137.296997  148.367996   \n",
              "3      2  163.214996  163.214996  162.214996  162.214996  164.688004   \n",
              "4     21  193.039001  194.039001  196.512009  198.511993  201.996002   \n",
              "\n",
              "       pixel6      pixel7      pixel8      pixel9  ...    pixel775  \\\n",
              "0  161.776001  162.559006  162.559006  153.755005  ...  113.000008   \n",
              "1   71.493996   72.565002   72.636002   79.234001  ...   86.879997   \n",
              "2  158.314011  157.673004  152.559006  144.516006  ...  144.565002   \n",
              "3  166.687988  169.688004  170.688004  166.459991  ...  160.248993   \n",
              "4  203.996002  205.354996  206.828003  207.828003  ...   45.368000   \n",
              "\n",
              "     pixel776    pixel777    pixel778    pixel779    pixel780    pixel781  \\\n",
              "0  115.000008  127.515999  116.516006  128.559006  130.559006  132.374008   \n",
              "1   94.125000   98.082001   93.327003   96.985008  108.458008   95.942001   \n",
              "2  146.565002  146.276993  144.277008  143.875000  141.875000  140.472992   \n",
              "3  157.249008  152.764999  148.764999  145.807999  145.807999  150.623001   \n",
              "4   38.215000   44.827999   50.077000  159.679001  190.526001  182.612000   \n",
              "\n",
              "     pixel782    pixel783    pixel784  \n",
              "0  132.374008  133.003998  133.003998  \n",
              "1  106.942001  122.067001  133.067001  \n",
              "2  142.472992  144.843002  146.843002  \n",
              "3  151.623001  152.552002  153.552002  \n",
              "4  182.942993  183.584000  184.985992  \n",
              "\n",
              "[5 rows x 785 columns]"
            ]
          },
          "execution_count": 43,
          "metadata": {},
          "output_type": "execute_result"
        }
      ],
      "source": [
        "# Concatenating the labels and the raw picture dataframe\n",
        "raw_df = pd.concat([train_labels, raw_img_df], axis=1)\n",
        "raw_df.columns = train.columns\n",
        "\n",
        "#Displaying the first 5 rows of the raw images dataframe\n",
        "raw_df.head()"
      ]
    },
    {
      "cell_type": "markdown",
      "metadata": {
        "id": "USGsyE5nkY7N"
      },
      "source": [
        "#### Combining Datasets\n",
        "The kaggle dataset labels are from 0-24 with 9 and 25 missing which represent the j and z letters that have been excluded but the raw dataset labels are from 0-23. For the two datasets to be merged, the labels should be similar."
      ]
    },
    {
      "cell_type": "code",
      "execution_count": null,
      "metadata": {
        "id": "tVh1TImikY7O"
      },
      "outputs": [],
      "source": [
        "# mapping the labels into correct labels\n",
        "mapping_dict = {0: 0, 1: 1, 2: 2, 3: 3, 4: 4, 5: 5, 6: 6, 7: 7, 8: 8, 10: 9, 11: 10,\n",
        "                12: 11, 13: 12, 14: 13, 15: 14, 16: 15, 17: 16, 18: 17, 19: 18, 20: 19,\n",
        "                21: 20, 22: 21, 23: 22, 24: 23}\n",
        "\n",
        "train[\"label\"] = train[\"label\"].map(mapping_dict)\n",
        "test[\"label\"] = test[\"label\"].map(mapping_dict)"
      ]
    },
    {
      "cell_type": "code",
      "execution_count": null,
      "metadata": {
        "id": "E1Qn4W2AkY7O",
        "outputId": "d485facf-53c4-48e8-c184-3954553410af"
      },
      "outputs": [
        {
          "data": {
            "text/html": [
              "<div>\n",
              "<style scoped>\n",
              "    .dataframe tbody tr th:only-of-type {\n",
              "        vertical-align: middle;\n",
              "    }\n",
              "\n",
              "    .dataframe tbody tr th {\n",
              "        vertical-align: top;\n",
              "    }\n",
              "\n",
              "    .dataframe thead th {\n",
              "        text-align: right;\n",
              "    }\n",
              "</style>\n",
              "<table border=\"1\" class=\"dataframe\">\n",
              "  <thead>\n",
              "    <tr style=\"text-align: right;\">\n",
              "      <th></th>\n",
              "      <th>label</th>\n",
              "      <th>pixel1</th>\n",
              "      <th>pixel2</th>\n",
              "      <th>pixel3</th>\n",
              "      <th>pixel4</th>\n",
              "      <th>pixel5</th>\n",
              "      <th>pixel6</th>\n",
              "      <th>pixel7</th>\n",
              "      <th>pixel8</th>\n",
              "      <th>pixel9</th>\n",
              "      <th>...</th>\n",
              "      <th>pixel775</th>\n",
              "      <th>pixel776</th>\n",
              "      <th>pixel777</th>\n",
              "      <th>pixel778</th>\n",
              "      <th>pixel779</th>\n",
              "      <th>pixel780</th>\n",
              "      <th>pixel781</th>\n",
              "      <th>pixel782</th>\n",
              "      <th>pixel783</th>\n",
              "      <th>pixel784</th>\n",
              "    </tr>\n",
              "  </thead>\n",
              "  <tbody>\n",
              "    <tr>\n",
              "      <th>0</th>\n",
              "      <td>3</td>\n",
              "      <td>107.0</td>\n",
              "      <td>118.0</td>\n",
              "      <td>127.0</td>\n",
              "      <td>134.0</td>\n",
              "      <td>139.0</td>\n",
              "      <td>143.0</td>\n",
              "      <td>146.0</td>\n",
              "      <td>150.0</td>\n",
              "      <td>153.0</td>\n",
              "      <td>...</td>\n",
              "      <td>207.0</td>\n",
              "      <td>207.0</td>\n",
              "      <td>207.0</td>\n",
              "      <td>207.0</td>\n",
              "      <td>206.0</td>\n",
              "      <td>206.0</td>\n",
              "      <td>206.0</td>\n",
              "      <td>204.0</td>\n",
              "      <td>203.0</td>\n",
              "      <td>202.0</td>\n",
              "    </tr>\n",
              "    <tr>\n",
              "      <th>1</th>\n",
              "      <td>6</td>\n",
              "      <td>155.0</td>\n",
              "      <td>157.0</td>\n",
              "      <td>156.0</td>\n",
              "      <td>156.0</td>\n",
              "      <td>156.0</td>\n",
              "      <td>157.0</td>\n",
              "      <td>156.0</td>\n",
              "      <td>158.0</td>\n",
              "      <td>158.0</td>\n",
              "      <td>...</td>\n",
              "      <td>69.0</td>\n",
              "      <td>149.0</td>\n",
              "      <td>128.0</td>\n",
              "      <td>87.0</td>\n",
              "      <td>94.0</td>\n",
              "      <td>163.0</td>\n",
              "      <td>175.0</td>\n",
              "      <td>103.0</td>\n",
              "      <td>135.0</td>\n",
              "      <td>149.0</td>\n",
              "    </tr>\n",
              "    <tr>\n",
              "      <th>2</th>\n",
              "      <td>2</td>\n",
              "      <td>187.0</td>\n",
              "      <td>188.0</td>\n",
              "      <td>188.0</td>\n",
              "      <td>187.0</td>\n",
              "      <td>187.0</td>\n",
              "      <td>186.0</td>\n",
              "      <td>187.0</td>\n",
              "      <td>188.0</td>\n",
              "      <td>187.0</td>\n",
              "      <td>...</td>\n",
              "      <td>202.0</td>\n",
              "      <td>201.0</td>\n",
              "      <td>200.0</td>\n",
              "      <td>199.0</td>\n",
              "      <td>198.0</td>\n",
              "      <td>199.0</td>\n",
              "      <td>198.0</td>\n",
              "      <td>195.0</td>\n",
              "      <td>194.0</td>\n",
              "      <td>195.0</td>\n",
              "    </tr>\n",
              "    <tr>\n",
              "      <th>3</th>\n",
              "      <td>2</td>\n",
              "      <td>211.0</td>\n",
              "      <td>211.0</td>\n",
              "      <td>212.0</td>\n",
              "      <td>212.0</td>\n",
              "      <td>211.0</td>\n",
              "      <td>210.0</td>\n",
              "      <td>211.0</td>\n",
              "      <td>210.0</td>\n",
              "      <td>210.0</td>\n",
              "      <td>...</td>\n",
              "      <td>235.0</td>\n",
              "      <td>234.0</td>\n",
              "      <td>233.0</td>\n",
              "      <td>231.0</td>\n",
              "      <td>230.0</td>\n",
              "      <td>226.0</td>\n",
              "      <td>225.0</td>\n",
              "      <td>222.0</td>\n",
              "      <td>229.0</td>\n",
              "      <td>163.0</td>\n",
              "    </tr>\n",
              "    <tr>\n",
              "      <th>4</th>\n",
              "      <td>12</td>\n",
              "      <td>164.0</td>\n",
              "      <td>167.0</td>\n",
              "      <td>170.0</td>\n",
              "      <td>172.0</td>\n",
              "      <td>176.0</td>\n",
              "      <td>179.0</td>\n",
              "      <td>180.0</td>\n",
              "      <td>184.0</td>\n",
              "      <td>185.0</td>\n",
              "      <td>...</td>\n",
              "      <td>92.0</td>\n",
              "      <td>105.0</td>\n",
              "      <td>105.0</td>\n",
              "      <td>108.0</td>\n",
              "      <td>133.0</td>\n",
              "      <td>163.0</td>\n",
              "      <td>157.0</td>\n",
              "      <td>163.0</td>\n",
              "      <td>164.0</td>\n",
              "      <td>179.0</td>\n",
              "    </tr>\n",
              "  </tbody>\n",
              "</table>\n",
              "<p>5 rows × 785 columns</p>\n",
              "</div>"
            ],
            "text/plain": [
              "   label  pixel1  pixel2  pixel3  pixel4  pixel5  pixel6  pixel7  pixel8  \\\n",
              "0      3   107.0   118.0   127.0   134.0   139.0   143.0   146.0   150.0   \n",
              "1      6   155.0   157.0   156.0   156.0   156.0   157.0   156.0   158.0   \n",
              "2      2   187.0   188.0   188.0   187.0   187.0   186.0   187.0   188.0   \n",
              "3      2   211.0   211.0   212.0   212.0   211.0   210.0   211.0   210.0   \n",
              "4     12   164.0   167.0   170.0   172.0   176.0   179.0   180.0   184.0   \n",
              "\n",
              "   pixel9  ...  pixel775  pixel776  pixel777  pixel778  pixel779  pixel780  \\\n",
              "0   153.0  ...     207.0     207.0     207.0     207.0     206.0     206.0   \n",
              "1   158.0  ...      69.0     149.0     128.0      87.0      94.0     163.0   \n",
              "2   187.0  ...     202.0     201.0     200.0     199.0     198.0     199.0   \n",
              "3   210.0  ...     235.0     234.0     233.0     231.0     230.0     226.0   \n",
              "4   185.0  ...      92.0     105.0     105.0     108.0     133.0     163.0   \n",
              "\n",
              "   pixel781  pixel782  pixel783  pixel784  \n",
              "0     206.0     204.0     203.0     202.0  \n",
              "1     175.0     103.0     135.0     149.0  \n",
              "2     198.0     195.0     194.0     195.0  \n",
              "3     225.0     222.0     229.0     163.0  \n",
              "4     157.0     163.0     164.0     179.0  \n",
              "\n",
              "[5 rows x 785 columns]"
            ]
          },
          "execution_count": 45,
          "metadata": {},
          "output_type": "execute_result"
        }
      ],
      "source": [
        "# Concatenating the collected images and the train dataset\n",
        "train = pd.concat([train, raw_df])\n",
        "train.reset_index(drop=True, inplace=True)\n",
        "\n",
        "# Displaying the first five rows\n",
        "train.head()"
      ]
    },
    {
      "cell_type": "code",
      "execution_count": null,
      "metadata": {
        "id": "-fYuPH04kY7O",
        "outputId": "11cba665-92e7-4630-df1a-7ac68e057a95"
      },
      "outputs": [
        {
          "data": {
            "text/plain": [
              "3"
            ]
          },
          "execution_count": 46,
          "metadata": {},
          "output_type": "execute_result"
        }
      ],
      "source": [
        "# Checking for duplicates\n",
        "train.duplicated().sum()"
      ]
    },
    {
      "cell_type": "code",
      "execution_count": null,
      "metadata": {
        "id": "icweVF5lkY7P"
      },
      "outputs": [],
      "source": [
        "# Dropping duplicated rows\n",
        "train.drop_duplicates(inplace=True)"
      ]
    },
    {
      "cell_type": "markdown",
      "metadata": {
        "id": "ATTwO-WbkY7P"
      },
      "source": [
        "### EDA"
      ]
    },
    {
      "cell_type": "code",
      "execution_count": null,
      "metadata": {
        "id": "kXlpdUWTkY7P",
        "outputId": "0a55ea26-36b6-47b7-fb01-308473b61878"
      },
      "outputs": [
        {
          "data": {
            "image/png": "[encoded data removed]",
            "text/plain": [
              "<Figure size 800x1000 with 10 Axes>"
            ]
          },
          "metadata": {},
          "output_type": "display_data"
        }
      ],
      "source": [
        "#displaying images\n",
        "# Extract pixel values and labels\n",
        "pixel_columns = train.columns[1:]  # Exclude the label column\n",
        "pixel_values = train[pixel_columns].values\n",
        "labels = train['label'].values\n",
        "\n",
        "# Display images\n",
        "fig, axes = plt.subplots(5, 2, figsize=(8, 10))\n",
        "fig.tight_layout()\n",
        "\n",
        "# Display images\n",
        "for i in range(10):\n",
        "    row = i // 2  # Calculate the row index\n",
        "    col = i % 2   # Calculate the column index\n",
        "    pixel_array = pixel_values[i].reshape(28, 28)  # Assuming the original image size is 28x28\n",
        "    # Display image on the corresponding subplot\n",
        "    axes[row, col].imshow(pixel_array, cmap='gray')\n",
        "    axes[row, col].set_title('Label: ' + str(labels[i]))\n",
        "    axes[row, col].axis('off')\n",
        "\n",
        "# Show the plot\n",
        "plt.show()"
      ]
    },
    {
      "cell_type": "code",
      "execution_count": null,
      "metadata": {
        "id": "DIP5ek2KkY7Q",
        "outputId": "68a6ca07-232e-4f46-ba7e-addcb596f31f"
      },
      "outputs": [
        {
          "data": {
            "image/png": "[encoded data removed]",
            "text/plain": [
              "<Figure size 800x1000 with 10 Axes>"
            ]
          },
          "metadata": {},
          "output_type": "display_data"
        }
      ],
      "source": [
        "# Displaying the last 10 images\n",
        "pixel_columns = train.columns[1:]  # Exclude the label column\n",
        "pixel_values = train[pixel_columns].values\n",
        "labels = train['label'].values\n",
        "\n",
        "# Get the last 10 images\n",
        "last_10_images = pixel_values[-10:]\n",
        "last_10_labels = labels[-10:]\n",
        "\n",
        "# Create subplots\n",
        "fig, axes = plt.subplots(nrows=5, ncols=2, figsize=(8, 10))\n",
        "\n",
        "# Display images\n",
        "for i, ax in enumerate(axes.flat):\n",
        "    pixel_array = last_10_images[i].reshape(28, 28)  # Assuming the original image size is 28x28\n",
        "    ax.imshow(pixel_array, cmap='gray')\n",
        "    ax.set_title('Label: ' + str(last_10_labels[i]))\n",
        "    ax.axis('off')\n",
        "plt.tight_layout()\n",
        "plt.show()"
      ]
    },
    {
      "cell_type": "code",
      "execution_count": null,
      "metadata": {
        "id": "-xFtq_rDkY7V",
        "outputId": "c2e62f3d-bf38-4c81-ac3a-b30bf3ff863f"
      },
      "outputs": [
        {
          "data": {
            "image/png": "[encoded data removed]",
            "text/plain": [
              "<Figure size 640x480 with 1 Axes>"
            ]
          },
          "metadata": {},
          "output_type": "display_data"
        }
      ],
      "source": [
        "\n",
        "# Distribution of the labels column train dataset\n",
        "def check_distribution(data, col, name):\n",
        "  sns.countplot(data=data, x=col, color=\"blue\")\n",
        "  plt.xlabel('labels')\n",
        "  plt.ylabel('proportion')\n",
        "  plt.title(f\"Frequency Distribution of Alphabets {(name)}\")\n",
        "  plt.show();\n",
        "\n",
        "check_distribution(train, 'label', \"train\")"
      ]
    },
    {
      "cell_type": "markdown",
      "metadata": {
        "id": "WjqTDQrdkY7W"
      },
      "source": [
        "*  In the analysis conducted, it was found that the label column exhibits a fairly distributed class distribution with no notable class imbalances. All classes display similar proportions, indicating a well-balanced dataset. This characteristic ensures that the model will have an equal opportunity to learn from and make accurate predictions across all classes."
      ]
    },
    {
      "cell_type": "code",
      "execution_count": null,
      "metadata": {
        "id": "3riXdTIbkY7W",
        "outputId": "f0b378f3-517b-44ab-ec24-559227dd19da"
      },
      "outputs": [
        {
          "data": {
            "image/png": "[encoded data removed]",
            "text/plain": [
              "<Figure size 640x480 with 1 Axes>"
            ]
          },
          "metadata": {},
          "output_type": "display_data"
        }
      ],
      "source": [
        "\n",
        "# Distribution of the labels column test dataset\n",
        "check_distribution(test, 'label', \"test\")"
      ]
    },
    {
      "cell_type": "markdown",
      "metadata": {
        "id": "883bjrnqkY7W"
      },
      "source": []
    },
    {
      "cell_type": "code",
      "execution_count": null,
      "metadata": {
        "id": "YQ5I9w18kY7X"
      },
      "outputs": [],
      "source": [
        "# fig, axs = plt.subplots(nrows=5, ncols=5, figsize=(8,8))\n",
        "# train_len = X_train.shape[0]\n",
        "\n",
        "# for ax in axs.reshape(-1):\n",
        "#     idx = np.random.randint(train_len)\n",
        "#     ax.set_title(label_map[y_train[idx]], size=10)\n",
        "#     ax.axis('off')\n",
        "#     ax.imshow(X_train[idx].reshape((28,28)), cmap='gray')"
      ]
    },
    {
      "cell_type": "code",
      "execution_count": null,
      "metadata": {
        "id": "hu3hqzvpkY7X"
      },
      "outputs": [],
      "source": [
        "# Viewing 10 images from the dataset\n",
        "# fig, axes = plt.subplots(nrows=2, ncols=5, figsize=(12, 6))\n",
        "# axes = axes.flatten()\n",
        "\n",
        "# for i in range(10):\n",
        "#     img = train_images[i]\n",
        "#     label = train_labels[i]\n",
        "\n",
        "#     axes[i].imshow(img)\n",
        "#     axes[i].set_title(f\"Label: {label}\")\n",
        "#     axes[i].axis('off')\n",
        "\n",
        "# plt.tight_layout()\n",
        "# plt.show()"
      ]
    }
  ],
  "metadata": {
    "kernelspec": {
      "display_name": "Python 3 (ipykernel)",
      "language": "python",
      "name": "python3"
    },
    "language_info": {
      "codemirror_mode": {
        "name": "ipython",
        "version": 3
      },
      "file_extension": ".py",
      "mimetype": "text/x-python",
      "name": "python",
      "nbconvert_exporter": "python",
      "pygments_lexer": "ipython3",
      "version": "3.11.3"
    },
    "colab": {
      "provenance": []
    }
  },
  "nbformat": 4,
  "nbformat_minor": 0
}